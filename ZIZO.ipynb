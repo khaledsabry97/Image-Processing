{
 "cells": [
  {
   "cell_type": "code",
   "execution_count": 3,
   "metadata": {
    "scrolled": true
   },
   "outputs": [
    {
     "name": "stdout",
     "output_type": "stream",
     "text": [
      "[[[  4   9  53]\n",
      "  [  4   9  53]\n",
      "  [  0   7  48]\n",
      "  ...\n",
      "  [134 127 143]\n",
      "  [122 124 139]\n",
      "  [124 126 141]]\n",
      "\n",
      " [[  0   8  51]\n",
      "  [  0   8  51]\n",
      "  [  1   7  49]\n",
      "  ...\n",
      "  [128 124 147]\n",
      "  [118 128 144]\n",
      "  [116 126 142]]\n",
      "\n",
      " [[  2  10  47]\n",
      "  [  1   9  46]\n",
      "  [  1   7  49]\n",
      "  ...\n",
      "  [126 129 141]\n",
      "  [113 130 140]\n",
      "  [113 130 140]]\n",
      "\n",
      " ...\n",
      "\n",
      " [[  0  15  24]\n",
      "  [  0  17  26]\n",
      "  [  0  17  24]\n",
      "  ...\n",
      "  [255 186 107]\n",
      "  [255 185 114]\n",
      "  [255 186 115]]\n",
      "\n",
      " [[  0  17  26]\n",
      "  [  0  17  26]\n",
      "  [  0  16  26]\n",
      "  ...\n",
      "  [255 186 104]\n",
      "  [255 183 110]\n",
      "  [255 186 113]]\n",
      "\n",
      " [[  0  17  27]\n",
      "  [  0  16  26]\n",
      "  [  0  17  26]\n",
      "  ...\n",
      "  [255 188 101]\n",
      "  [255 187 108]\n",
      "  [255 189 110]]]\n"
     ]
    }
   ],
   "source": [
    "import cv2\n",
    "from scipy import signal\n",
    "import numpy as np\n",
    "\n",
    "video=cv2.VideoCapture(0)\n",
    "while True:\n",
    "    check,frame=video.read()\n",
    "    x = video.get(3)\n",
    "    y = video.get(4)\n",
    "    cv2.rectangle(frame,(int(x/3),int(y/3)),(int(2*x/3),int(2*y/3)),(0,255,0),3)     \n",
    "    cv2.imshow(\"image\",frame)\n",
    "    key=cv2.waitKey(1)\n",
    "    if key == ord('q'):\n",
    "        print(frame)\n",
    "        break\n",
    "    if key == ord('w'):\n",
    "        hand=frame[int(y/3):int(2*y/3),int(x/3):int(2*x/3)]\n",
    "        hsv = cv2.cvtColor(frame, cv2.COLOR_BGR2HSV)\n",
    "        cv2.imshow(\"image1\",hsv)\n",
    "video.release()\n",
    "\n",
    "\n",
    "\n",
    "\n",
    "cv2.destroyAllWindows()\n",
    "    "
   ]
  },
  {
   "cell_type": "code",
   "execution_count": null,
   "metadata": {},
   "outputs": [],
   "source": []
  },
  {
   "cell_type": "code",
   "execution_count": null,
   "metadata": {},
   "outputs": [],
   "source": []
  },
  {
   "cell_type": "code",
   "execution_count": null,
   "metadata": {},
   "outputs": [],
   "source": []
  }
 ],
 "metadata": {
  "kernelspec": {
   "display_name": "Python 3",
   "language": "python",
   "name": "python3"
  },
  "language_info": {
   "codemirror_mode": {
    "name": "ipython",
    "version": 3
   },
   "file_extension": ".py",
   "mimetype": "text/x-python",
   "name": "python",
   "nbconvert_exporter": "python",
   "pygments_lexer": "ipython3",
   "version": "3.6.7"
  }
 },
 "nbformat": 4,
 "nbformat_minor": 2
}

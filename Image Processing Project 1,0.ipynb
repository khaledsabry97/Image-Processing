{
 "cells": [
  {
   "cell_type": "code",
   "execution_count": 30,
   "metadata": {
    "scrolled": true
   },
   "outputs": [],
   "source": [
    "import cv2\n",
    "from scipy import signal\n",
    "import numpy as np\n",
    "\n",
    "try:\n",
    "    video=cv2.VideoCapture(0)\n",
    "    hue,sat,val = 0,0,0\n",
    "    while True:\n",
    "        check,frame=video.read()\n",
    "        hsv = cv2.cvtColor(frame, cv2.COLOR_BGR2HSV)\n",
    "        x = video.get(3)\n",
    "        y = video.get(4)\n",
    "        cv2.rectangle(frame,(int(x/3),int(y/3)),(int(2*x/3),int(2*y/3)),(0,255,0),3)\n",
    "        \n",
    "        'take the hand area as an image '\n",
    "        hand = hsv[int(y/3):int(2*y/3),int(x/3):int(2*x/3)]\n",
    "        'get the average threshold for the colors of hsv'\n",
    "        hue,sat,val = getAverageThreshold(hand)\n",
    "        'make a mask from lower to upper band of the colors'\n",
    "        masks =mask(hsv,[hue,sat,val])\n",
    "        frame2 = frame\n",
    "        'segment the image'\n",
    "        segmented = cv2.bitwise_and(frame,frame2, mask= masks)\n",
    "        'print all the screens you want'\n",
    "        imgsShow()     \n",
    "        \n",
    "        key=cv2.waitKey(1)\n",
    "        if key == ord('q'):\n",
    "            '''print(frame) '''  \n",
    "            break\n",
    "        if key == ord('w'):\n",
    "            hand=frame[int(y/3):int(2*y/3),int(x/3):int(2*x/3)]\n",
    "            hsv = cv2.cvtColor(frame, cv2.COLOR_BGR2HSV)\n",
    "            cv2.imshow(\"image1\",hsv)\n",
    "except Exception as e:\n",
    "    print(e)\n",
    "video.release()\n",
    "\n",
    "\n",
    "\n",
    "\n",
    "cv2.destroyAllWindows()\n",
    "    "
   ]
  },
  {
   "cell_type": "code",
   "execution_count": 29,
   "metadata": {},
   "outputs": [],
   "source": [
    "'return the average for the three values of any image'\n",
    "def getAverageThreshold(frame):\n",
    "\n",
    "    try:\n",
    "        x = frame.shape[0]\n",
    "        y = frame.shape[1]\n",
    "        hue = 0.0\n",
    "        sat = 0.0\n",
    "        val = 0.0\n",
    "        total = 60*60\n",
    "        lowx = int(x/2 -30)\n",
    "        lowy = int(y/2 -30)\n",
    "        highx = int(x/2 + 30)\n",
    "        highy = int(y/2 + 30)\n",
    "        \n",
    "        for i in range(lowx,highx):\n",
    "            for j in range(lowy,highy):\n",
    "                hue = hue + float(frame[i,j,0])/float(total)\n",
    "                sat = sat + float(frame[i,j,1])/float(total)\n",
    "                val = val + float(frame[i,j,2])/float(total)\n",
    "        hue = int(hue)\n",
    "        sat = int(sat)        \n",
    "        val = int(val)        \n",
    "\n",
    "    except Exception as e:\n",
    "        print(e)\n",
    "    \n",
    "    return hue,sat,val\n",
    "    \n",
    "        "
   ]
  },
  {
   "cell_type": "code",
   "execution_count": 11,
   "metadata": {},
   "outputs": [],
   "source": [
    "'this will mask the image into binary and return the image'\n",
    "def mask(frame,bound):\n",
    "    'this is the limit threshold the lowest from the average value and the highest from the average value'\n",
    "    low = 25\n",
    "    high = 25\n",
    "    try:\n",
    "        lower_blue = np.array([bound[0] - low,bound[1] - low,bound[2] - low])\n",
    "        upper_blue = np.array([bound[0] + high,bound[1] + high,bound[2] + high])\n",
    "        mask = cv2.inRange(frame, lower_blue, upper_blue)\n",
    "    except Exception as e:\n",
    "        print(e)\n",
    "        return frame\n",
    "    \n",
    "    \n",
    "\n",
    "    return mask"
   ]
  },
  {
   "cell_type": "code",
   "execution_count": 26,
   "metadata": {},
   "outputs": [],
   "source": [
    "'print all the screens you want'\n",
    "def imgsShow():\n",
    "    cv2.imshow(\"image\",frame)\n",
    "    cv2.imshow(\"hsv\",hsv)\n",
    "    cv2.imshow('mask',masks)\n",
    "    cv2.imshow('segmented',segmented)"
   ]
  },
  {
   "cell_type": "code",
   "execution_count": 4,
   "metadata": {},
   "outputs": [],
   "source": []
  },
  {
   "cell_type": "code",
   "execution_count": null,
   "metadata": {},
   "outputs": [],
   "source": []
  },
  {
   "cell_type": "code",
   "execution_count": null,
   "metadata": {},
   "outputs": [],
   "source": []
  }
 ],
 "metadata": {
  "kernelspec": {
   "display_name": "Python 3",
   "language": "python",
   "name": "python3"
  },
  "language_info": {
   "codemirror_mode": {
    "name": "ipython",
    "version": 3
   },
   "file_extension": ".py",
   "mimetype": "text/x-python",
   "name": "python",
   "nbconvert_exporter": "python",
   "pygments_lexer": "ipython3",
   "version": "3.6.5"
  }
 },
 "nbformat": 4,
 "nbformat_minor": 2
}
